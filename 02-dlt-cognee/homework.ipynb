{
  "nbformat": 4,
  "nbformat_minor": 0,
  "metadata": {
    "colab": {
      "provenance": [],
      "authorship_tag": "ABX9TyPEWg2gH5JgjDQWp3aqAUhG",
      "include_colab_link": true
    },
    "kernelspec": {
      "name": "python3",
      "display_name": "Python 3"
    },
    "language_info": {
      "name": "python"
    }
  },
  "cells": [
    {
      "cell_type": "markdown",
      "metadata": {
        "id": "view-in-github",
        "colab_type": "text"
      },
      "source": [
        "<a href=\"https://colab.research.google.com/github/Morgenmuffel/llm-zoomcamp/blob/main/02-dlt-cognee/homework.ipynb\" target=\"_parent\"><img src=\"https://colab.research.google.com/assets/colab-badge.svg\" alt=\"Open In Colab\"/></a>"
      ]
    },
    {
      "cell_type": "code",
      "execution_count": null,
      "metadata": {
        "id": "Y6KJMjwRNOiD",
        "outputId": "f0de8f7e-166c-436a-9032-f1e057f62a80",
        "colab": {
          "base_uri": "https://localhost:8080/"
        }
      },
      "outputs": [
        {
          "output_type": "stream",
          "name": "stdout",
          "text": [
            "\u001b[2K   \u001b[90m━━━━━━━━━━━━━━━━━━━━━━━━━━━━━━━━━━━━━━━\u001b[0m \u001b[32m100.9/100.9 kB\u001b[0m \u001b[31m783.3 kB/s\u001b[0m eta \u001b[36m0:00:00\u001b[0m\n",
            "\u001b[2K   \u001b[90m━━━━━━━━━━━━━━━━━━━━━━━━━━━━━━━━━━━━━━━━\u001b[0m \u001b[32m353.7/353.7 kB\u001b[0m \u001b[31m2.7 MB/s\u001b[0m eta \u001b[36m0:00:00\u001b[0m\n",
            "\u001b[2K   \u001b[90m━━━━━━━━━━━━━━━━━━━━━━━━━━━━━━━━━━━━━━━━\u001b[0m \u001b[32m329.0/329.0 kB\u001b[0m \u001b[31m8.6 MB/s\u001b[0m eta \u001b[36m0:00:00\u001b[0m\n",
            "\u001b[2K   \u001b[90m━━━━━━━━━━━━━━━━━━━━━━━━━━━━━━━━━━━━━━━━\u001b[0m \u001b[32m986.0/986.0 kB\u001b[0m \u001b[31m8.9 MB/s\u001b[0m eta \u001b[36m0:00:00\u001b[0m\n",
            "\u001b[2K   \u001b[90m━━━━━━━━━━━━━━━━━━━━━━━━━━━━━━━━━━━━━━━━\u001b[0m \u001b[32m61.6/61.6 kB\u001b[0m \u001b[31m4.1 MB/s\u001b[0m eta \u001b[36m0:00:00\u001b[0m\n",
            "\u001b[2K   \u001b[90m━━━━━━━━━━━━━━━━━━━━━━━━━━━━━━━━━━━━━━━━\u001b[0m \u001b[32m101.6/101.6 kB\u001b[0m \u001b[31m7.7 MB/s\u001b[0m eta \u001b[36m0:00:00\u001b[0m\n",
            "\u001b[2K   \u001b[90m━━━━━━━━━━━━━━━━━━━━━━━━━━━━━━━━━━━━━━━━\u001b[0m \u001b[32m16.5/16.5 MB\u001b[0m \u001b[31m44.5 MB/s\u001b[0m eta \u001b[36m0:00:00\u001b[0m\n",
            "\u001b[2K   \u001b[90m━━━━━━━━━━━━━━━━━━━━━━━━━━━━━━━━━━━━━━━━\u001b[0m \u001b[32m324.8/324.8 kB\u001b[0m \u001b[31m23.8 MB/s\u001b[0m eta \u001b[36m0:00:00\u001b[0m\n",
            "\u001b[2K   \u001b[90m━━━━━━━━━━━━━━━━━━━━━━━━━━━━━━━━━━━━━━━━\u001b[0m \u001b[32m46.0/46.0 kB\u001b[0m \u001b[31m3.1 MB/s\u001b[0m eta \u001b[36m0:00:00\u001b[0m\n",
            "\u001b[2K   \u001b[90m━━━━━━━━━━━━━━━━━━━━━━━━━━━━━━━━━━━━━━━━\u001b[0m \u001b[32m86.8/86.8 kB\u001b[0m \u001b[31m6.7 MB/s\u001b[0m eta \u001b[36m0:00:00\u001b[0m\n",
            "\u001b[?25h"
          ]
        }
      ],
      "source": [
        "pip install -q \"dlt[qdrant]\" \"qdrant-client[fastembed]\""
      ]
    },
    {
      "cell_type": "code",
      "source": [
        "!dlt --version"
      ],
      "metadata": {
        "id": "ApYyaX54OJ-t",
        "outputId": "7a6dc8b4-9ac2-469e-cb1f-563c75ddac7e",
        "colab": {
          "base_uri": "https://localhost:8080/"
        }
      },
      "execution_count": null,
      "outputs": [
        {
          "output_type": "stream",
          "name": "stdout",
          "text": [
            "\u001b[39mdlt 1.13.0\u001b[0m\n"
          ]
        }
      ]
    },
    {
      "cell_type": "code",
      "source": [
        "import dlt\n",
        "import requests\n",
        "import pandas as pd\n",
        "from datetime import datetime\n",
        "from dlt.destinations import qdrant\n",
        "\n",
        "@dlt.resource(write_disposition=\"replace\", name=\"zoomcamp_data\")\n",
        "def zoomcamp_data():\n",
        "    docs_url = 'https://github.com/alexeygrigorev/llm-rag-workshop/raw/main/notebooks/documents.json'\n",
        "    docs_response = requests.get(docs_url)\n",
        "    documents_raw = docs_response.json()\n",
        "\n",
        "    for course in documents_raw:\n",
        "        course_name = course['course']\n",
        "\n",
        "        for doc in course['documents']:\n",
        "            doc['course'] = course_name\n",
        "            yield doc\n",
        "\n",
        "\n",
        "\n",
        "qdrant_destination = qdrant(\n",
        "  qd_path=\"db.qdrant\",\n",
        ")\n",
        "\n",
        "pipeline = dlt.pipeline(\n",
        "    pipeline_name=\"zoomcamp_pipeline\",\n",
        "    destination=qdrant_destination,\n",
        "    dataset_name=\"zoomcamp_tagged_data\"\n",
        "\n",
        ")\n",
        "load_info = pipeline.run(zoomcamp_data())\n",
        "print(pipeline.last_trace)"
      ],
      "metadata": {
        "id": "ULZP5CyeOm-R",
        "outputId": "bdd98466-023c-468f-8dbe-6ceb3255e44c",
        "colab": {
          "base_uri": "https://localhost:8080/"
        }
      },
      "execution_count": 5,
      "outputs": [
        {
          "output_type": "stream",
          "name": "stdout",
          "text": [
            "Run started at 2025-07-10 22:41:54.960537+00:00 and COMPLETED in 15.82 seconds with 4 steps.\n",
            "Step extract COMPLETED in 1.15 seconds.\n",
            "\n",
            "Load package 1752187316.8218982 is EXTRACTED and NOT YET LOADED to the destination and contains no failed jobs\n",
            "\n",
            "Step normalize COMPLETED in 0.09 seconds.\n",
            "Normalized data for the following tables:\n",
            "- zoomcamp_data: 948 row(s)\n",
            "\n",
            "Load package 1752187316.8218982 is NORMALIZED and NOT YET LOADED to the destination and contains no failed jobs\n",
            "\n",
            "Step load COMPLETED in 12.73 seconds.\n",
            "Pipeline zoomcamp_pipeline load step completed in 12.71 seconds\n",
            "1 load package(s) were loaded to destination qdrant and into dataset zoomcamp_tagged_data\n",
            "The qdrant destination used /content/db.qdrant location to store data\n",
            "Load package 1752187316.8218982 is LOADED and contains no failed jobs\n",
            "\n",
            "Step run COMPLETED in 15.82 seconds.\n",
            "Pipeline zoomcamp_pipeline load step completed in 12.71 seconds\n",
            "1 load package(s) were loaded to destination qdrant and into dataset zoomcamp_tagged_data\n",
            "The qdrant destination used /content/db.qdrant location to store data\n",
            "Load package 1752187316.8218982 is LOADED and contains no failed jobs\n"
          ]
        }
      ]
    },
    {
      "cell_type": "code",
      "source": [],
      "metadata": {
        "id": "AYkw_M_kPE9k"
      },
      "execution_count": null,
      "outputs": []
    }
  ]
}